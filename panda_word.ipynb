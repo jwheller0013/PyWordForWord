{
 "cells": [
  {
   "cell_type": "markdown",
   "id": "01411b03-54be-4881-8030-552bdbda45fe",
   "metadata": {},
   "source": [
    "## Now with Pandas\n",
    "\n",
    "Perform the same text processing with Pandas.\n",
    "From a Notebook.\n",
    "And save results into a sqlite3 database.\n",
    "\n",
    "To do that, you'll need to think about the dataframe you need to create.\n",
    "What columns does it have?\n",
    "\n",
    "How do you make a relationship between the document data (the name, the word count, the lines and char counts) and the frequencies.\n",
    "\n",
    "Probably two tables, word_freq and letter_freq?\n",
    "Or can you think of a better way to turn the data into a _schema_?\n"
   ]
  },
  {
   "cell_type": "code",
   "execution_count": 1,
   "id": "4c336923-74c0-406b-b313-9c2ae70ddbf2",
   "metadata": {},
   "outputs": [],
   "source": [
    "import pandas as pd\n",
    "import os\n",
    "import re\n",
    "\n",
    "#word_freq and letter_freq tables\n",
    "\n",
    "class TextProcessing():\n",
    "    def __init__(self):\n",
    "        pass\n",
    "\n",
    "    def file_to_string(self, filename):\n",
    "        # pass\n",
    "        absolute_path = os.path.dirname(os.path.abspath(__file__))\n",
    "        try:\n",
    "            file_path = absolute_path + filename\n",
    "            with open(file_path, 'r') as file:\n",
    "                result_string = file.read()\n",
    "            return result_string\n",
    "        except FileNotFoundError:\n",
    "            return f\"File '{filename}' not found.\"\n",
    "        except IOError as e:\n",
    "            return f\"Error reading file: {e}\"\n",
    "\n",
    "    def pan_word(self, text):\n",
    "        sentclean = re.sub(r'[^\\w\\s]', '', text).lower()\n",
    "        sentcleansplit = sentclean.split()\n",
    "        word_counts = pd.Series(sentcleansplit).value_counts().reset_index()\n",
    "        word_counts.columns = ['Word', 'Frequency']\n",
    "        return word_counts\n",
    "\n",
    "    def pan_letter(self, text):\n",
    "        sentclean = re.sub(r'[^a-zA-Z]', '', text).lower()\n",
    "        letter_counts = pd.Series(list(sentclean)).value_counts().reset_index()\n",
    "        letter_counts.columns = ['Letter', 'Frequency']\n",
    "        return letter_counts"
   ]
  },
  {
   "cell_type": "code",
   "execution_count": null,
   "id": "bcc740f1-e043-4d0b-a2ab-6d8c8867fe34",
   "metadata": {},
   "outputs": [],
   "source": [
    "test = TextProcessing()"
   ]
  }
 ],
 "metadata": {
  "kernelspec": {
   "display_name": "Python 3 (ipykernel)",
   "language": "python",
   "name": "python3"
  },
  "language_info": {
   "codemirror_mode": {
    "name": "ipython",
    "version": 3
   },
   "file_extension": ".py",
   "mimetype": "text/x-python",
   "name": "python",
   "nbconvert_exporter": "python",
   "pygments_lexer": "ipython3",
   "version": "3.11.11"
  }
 },
 "nbformat": 4,
 "nbformat_minor": 5
}
