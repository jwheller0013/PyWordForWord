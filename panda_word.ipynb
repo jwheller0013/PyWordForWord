{
 "cells": [
  {
   "cell_type": "markdown",
   "id": "01411b03-54be-4881-8030-552bdbda45fe",
   "metadata": {},
   "source": [
    "## Now with Pandas\n",
    "\n",
    "Perform the same text processing with Pandas.\n",
    "From a Notebook.\n",
    "And save results into a sqlite3 database.\n",
    "\n",
    "To do that, you'll need to think about the dataframe you need to create.\n",
    "What columns does it have?\n",
    "\n",
    "How do you make a relationship between the document data (the name, the word count, the lines and char counts) and the frequencies.\n",
    "\n",
    "Probably two tables, word_freq and letter_freq?\n",
    "Or can you think of a better way to turn the data into a _schema_?\n"
   ]
  },
  {
   "cell_type": "code",
   "execution_count": 12,
   "id": "4c336923-74c0-406b-b313-9c2ae70ddbf2",
   "metadata": {},
   "outputs": [],
   "source": [
    "import pandas as pd\n",
    "import os\n",
    "import re\n",
    "\n",
    "#word_freq and letter_freq tables\n",
    "\n",
    "class TextProcessing():\n",
    "    def __init__(self):\n",
    "        pass\n",
    "\n",
    "    def file_to_string(self, filename):\n",
    "        # pass\n",
    "        try:\n",
    "            with open(filename, 'r') as file:\n",
    "                result_string = file.read()\n",
    "            return result_string\n",
    "        except FileNotFoundError:\n",
    "            return f\"File '{filename}' not found.\"\n",
    "        except IOError as e:\n",
    "            return f\"Error reading file: {e}\"\n",
    "\n",
    "    def pan_word(self, text):\n",
    "        sentclean = re.sub(r'[^\\w\\s]', '', text).lower()\n",
    "        sentcleansplit = sentclean.split()\n",
    "        word_counts = pd.Series(sentcleansplit).value_counts().reset_index()\n",
    "        word_counts.columns = ['Word', 'Frequency']\n",
    "        return word_counts\n",
    "\n",
    "    def pan_letter(self, text):\n",
    "        sentclean = re.sub(r'[^a-zA-Z]', '', text).lower()\n",
    "        letter_counts = pd.Series(list(sentclean)).value_counts().reset_index()\n",
    "        letter_counts.columns = ['Letter', 'Frequency']\n",
    "        return letter_counts"
   ]
  },
  {
   "cell_type": "code",
   "execution_count": 21,
   "id": "bcc740f1-e043-4d0b-a2ab-6d8c8867fe34",
   "metadata": {},
   "outputs": [],
   "source": [
    "test = TextProcessing()"
   ]
  },
  {
   "cell_type": "code",
   "execution_count": 22,
   "id": "4ada0d6f-83f7-4360-a73c-177e2cefd943",
   "metadata": {},
   "outputs": [],
   "source": [
    "x =test.file_to_string('/Users/jim/Projects/p1/PyWordForWord/testdata/testdata2.txt')"
   ]
  },
  {
   "cell_type": "code",
   "execution_count": 23,
   "id": "6ff9607b-e5b3-4ade-adcf-3aa3d186fb3e",
   "metadata": {},
   "outputs": [
    {
     "name": "stdout",
     "output_type": "stream",
     "text": [
      "            Word  Frequency\n",
      "0            the          6\n",
      "1             of          3\n",
      "2            and          3\n",
      "3            for          2\n",
      "4         united          2\n",
      "5         states          2\n",
      "6             to          2\n",
      "7      establish          2\n",
      "8             we          1\n",
      "9        liberty          1\n",
      "10       welfare          1\n",
      "11        secure          1\n",
      "12     blessings          1\n",
      "13           our          1\n",
      "14     ourselves          1\n",
      "15       promote          1\n",
      "16     posterity          1\n",
      "17            do          1\n",
      "18        ordain          1\n",
      "19          this          1\n",
      "20  constitution          1\n",
      "21       general          1\n",
      "22       provide          1\n",
      "23       defence          1\n",
      "24        common          1\n",
      "25   tranquility          1\n",
      "26      domestic          1\n",
      "27        insure          1\n",
      "28       justice          1\n",
      "29         union          1\n",
      "30       perfect          1\n",
      "31          more          1\n",
      "32             a          1\n",
      "33          form          1\n",
      "34         order          1\n",
      "35            in          1\n",
      "36        people          1\n",
      "37       america          1\n"
     ]
    }
   ],
   "source": [
    "print(test.pan_word(x))"
   ]
  },
  {
   "cell_type": "code",
   "execution_count": 24,
   "id": "9b6e638d-f74a-4539-af35-2d1baf93512e",
   "metadata": {},
   "outputs": [
    {
     "name": "stdout",
     "output_type": "stream",
     "text": [
      "   Letter  Frequency\n",
      "0       e         39\n",
      "1       t         29\n",
      "2       o         25\n",
      "3       i         20\n",
      "4       r         20\n",
      "5       s         20\n",
      "6       n         17\n",
      "7       a         14\n",
      "8       d         11\n",
      "9       u         10\n",
      "10      f          9\n",
      "11      l          9\n",
      "12      h          9\n",
      "13      c          8\n",
      "14      m          7\n",
      "15      p          6\n",
      "16      b          4\n",
      "17      y          3\n",
      "18      v          2\n",
      "19      w          2\n",
      "20      g          2\n",
      "21      q          1\n",
      "22      j          1\n"
     ]
    }
   ],
   "source": [
    "print(test.pan_letter(x))"
   ]
  },
  {
   "cell_type": "code",
   "execution_count": null,
   "id": "6d1c8c29-1a51-4f5d-9f86-7df61bf73b81",
   "metadata": {},
   "outputs": [],
   "source": []
  }
 ],
 "metadata": {
  "kernelspec": {
   "display_name": "Python 3 (ipykernel)",
   "language": "python",
   "name": "python3"
  },
  "language_info": {
   "codemirror_mode": {
    "name": "ipython",
    "version": 3
   },
   "file_extension": ".py",
   "mimetype": "text/x-python",
   "name": "python",
   "nbconvert_exporter": "python",
   "pygments_lexer": "ipython3",
   "version": "3.12.5"
  }
 },
 "nbformat": 4,
 "nbformat_minor": 5
}
